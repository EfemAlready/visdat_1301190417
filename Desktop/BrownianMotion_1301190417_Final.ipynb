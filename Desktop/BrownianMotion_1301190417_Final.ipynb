{
  "nbformat": 4,
  "nbformat_minor": 0,
  "metadata": {
    "colab": {
      "name": "BrownianMotion_1301190417",
      "provenance": [],
      "collapsed_sections": []
    },
    "kernelspec": {
      "name": "python3",
      "display_name": "Python 3"
    },
    "language_info": {
      "name": "python"
    }
  },
  "cells": [
    {
      "cell_type": "code",
      "source": [
        "import numpy as np\n",
        "import math\n",
        "import random\n",
        "import matplotlib.pyplot as plt\n",
        "\n",
        "def brownian(n):\n",
        "  partikel = n\n",
        "  iterasi = 100\n",
        "  x = np.zeros((partikel, iterasi))\n",
        "  y = np.zeros((partikel, iterasi))\n",
        "  for i in range(1, iterasi):\n",
        "    for j in range(partikel):\n",
        "      rand = random.uniform(0, 1)\n",
        "      if rand <= 0.25:\n",
        "        x[j][i] = x[j][i - 1] + 1\n",
        "        y[j][i] = y[j][i - 1]\n",
        "      elif (0.25 < rand <= 0.5):\n",
        "        x[j][i] = x[j][i - 1] - 1\n",
        "        y[j][i] = y[j][i - 1]\n",
        "      elif (0.5 < rand <= 0.75):\n",
        "        x[j][i] = x[j][i - 1]\n",
        "        y[j][i] = y[j][i - 1] + 1\n",
        "      else:\n",
        "        x[j][i] = x[j][i - 1]\n",
        "        y[j][i] = y[j][i - 1] - 1\n",
        "  for j in range(partikel):\n",
        "    for i in range(1, iterasi):\n",
        "      plt.plot(x[j], y[j])\n",
        "  return x,y"
      ],
      "metadata": {
        "id": "rWKk2RP8NNtp"
      },
      "execution_count": 74,
      "outputs": []
    },
    {
      "cell_type": "code",
      "source": [
        "x_data, y_data = brownian(9)\n",
        "plt.grid()\n",
        "plt.show()"
      ],
      "metadata": {
        "colab": {
          "base_uri": "https://localhost:8080/",
          "height": 265
        },
        "id": "v1kx4pEpkRvw",
        "outputId": "0eb77721-5413-401e-8a62-7a5b59377908"
      },
      "execution_count": 75,
      "outputs": [
        {
          "output_type": "display_data",
          "data": {
            "text/plain": [
              "<Figure size 432x288 with 1 Axes>"
            ],
            "image/png": "[encoded data removed]"
          },
          "metadata": {
            "needs_background": "light"
          }
        }
      ]
    },
    {
      "cell_type": "code",
      "source": [
        "\n",
        "#Nilai Keseluruhan\n",
        "for i in range(0,9):\n",
        "  print('')\n",
        "  print(\"ini x data partikel ke-\" ,i,\" \" ,x_data[i])\n",
        "  print('')\n",
        "  print(\"ini y data partikel ke-\" ,i,\" \", y_data[i])"
      ],
      "metadata": {
        "colab": {
          "base_uri": "https://localhost:8080/"
        },
        "id": "GWSvkTGTb8uS",
        "outputId": "681a87cb-88ea-4759-80d1-db14a0120127"
      },
      "execution_count": 83,
      "outputs": [
        {
          "output_type": "stream",
          "name": "stdout",
          "text": [
            "\n",
            "ini x data partikel ke- 0   [ 0.  1.  0.  1.  1.  2.  2.  3.  3.  3.  3.  4.  4.  5.  4.  3.  4.  3.\n",
            "  2.  2.  2.  3.  2.  3.  3.  3.  2.  2.  2.  2.  3.  3.  3.  4.  5.  5.\n",
            "  5.  4.  4.  4.  4.  4.  4.  3.  3.  3.  4.  4.  4.  3.  3.  2.  2.  3.\n",
            "  4.  4.  3.  2.  2.  2.  1.  1.  1.  1.  1.  0.  1.  1.  1.  1.  0.  0.\n",
            " -1. -1. -2. -2. -3. -3. -2. -3. -2. -1. -2. -2. -2. -2. -2. -2. -3. -3.\n",
            " -3. -4. -4. -4. -5. -5. -4. -3. -2. -2.]\n",
            "\n",
            "ini y data partikel ke- 0   [ 0.  0.  0.  0.  1.  1.  0.  0.  1.  2.  1.  1.  0.  0.  0.  0.  0.  0.\n",
            "  0.  1.  2.  2.  2.  2.  3.  2.  2.  1.  0. -1. -1.  0.  1.  1.  1.  0.\n",
            "  1.  1.  0. -1. -2. -1.  0.  0. -1. -2. -2. -1. -2. -2. -3. -3. -2. -2.\n",
            " -2. -1. -1. -1.  0. -1. -1. -2. -1.  0. -1. -1. -1. -2. -1. -2. -2. -1.\n",
            " -1.  0.  0. -1. -1. -2. -2. -2. -2. -2. -2. -1.  0.  1.  2.  1.  1.  2.\n",
            "  3.  3.  4.  3.  3.  4.  4.  4.  4.  5.]\n",
            "\n",
            "ini x data partikel ke- 1   [  0.   0.   0.  -1.  -1.  -2.  -3.  -3.  -3.  -3.  -3.  -4.  -4.  -5.\n",
            "  -5.  -4.  -4.  -5.  -4.  -3.  -4.  -3.  -2.  -2.  -2.  -2.  -2.  -3.\n",
            "  -3.  -2.  -3.  -3.  -2.  -2.  -3.  -4.  -3.  -3.  -2.  -3.  -3.  -3.\n",
            "  -2.  -3.  -4.  -5.  -6.  -6.  -7.  -7.  -7.  -7.  -7.  -7.  -8.  -7.\n",
            "  -7.  -7.  -7.  -7.  -7.  -8.  -8.  -8.  -9.  -9.  -9.  -8.  -9.  -9.\n",
            "  -9.  -9.  -9.  -9.  -9. -10. -10.  -9. -10. -10. -10. -10. -10. -10.\n",
            " -10. -11. -12. -11. -12. -13. -13. -12. -13. -12. -12. -12. -12. -12.\n",
            " -12. -12.]\n",
            "\n",
            "ini y data partikel ke- 1   [ 0.  1.  2.  2.  3.  3.  3.  2.  1.  2.  3.  3.  2.  2.  3.  3.  2.  2.\n",
            "  2.  2.  2.  2.  2.  1.  2.  1.  0.  0. -1. -1. -1. -2. -2. -1. -1. -1.\n",
            " -1.  0.  0.  0. -1.  0.  0.  0.  0.  0.  0.  1.  1.  2.  3.  2.  1.  0.\n",
            "  0.  0.  1.  2.  3.  4.  3.  3.  2.  1.  1.  2.  3.  3.  3.  2.  3.  2.\n",
            "  1.  2.  1.  1.  0.  0.  0.  1.  0.  1.  0. -1. -2. -2. -2. -2. -2. -2.\n",
            " -1. -1. -1. -1. -2. -3. -2. -3. -2. -3.]\n",
            "\n",
            "ini x data partikel ke- 2   [ 0.  1.  1.  1.  2.  3.  2.  2.  3.  3.  4.  4.  4.  4.  4.  4.  4.  4.\n",
            "  5.  5.  4.  3.  3.  3.  4.  5.  4.  4.  3.  2.  1.  2.  2.  2.  2.  1.\n",
            "  2.  1.  0.  0.  0.  0.  1.  0.  0.  1.  1.  0.  1.  0.  0. -1. -1. -2.\n",
            " -2. -1. -2. -1. -2. -2. -2. -1. -1. -1. -1. -2. -2. -1. -1.  0.  1.  2.\n",
            "  3.  3.  3.  3.  2.  2.  2.  3.  3.  2.  2.  2.  3.  4.  4.  4.  5.  6.\n",
            "  6.  7.  7.  7.  7.  6.  6.  7.  8.  9.]\n",
            "\n",
            "ini y data partikel ke- 2   [  0.   0.  -1.  -2.  -2.  -2.  -2.  -3.  -3.  -4.  -4.  -3.  -2.  -1.\n",
            "   0.  -1.   0.   1.   1.   0.   0.   0.   1.   0.   0.   0.   0.  -1.\n",
            "  -1.  -1.  -1.  -1.   0.  -1.  -2.  -2.  -2.  -2.  -2.  -1.  -2.  -3.\n",
            "  -3.  -3.  -2.  -2.  -1.  -1.  -1.  -1.   0.   0.   1.   1.   0.   0.\n",
            "   0.   0.   0.   1.   0.   0.  -1.   0.  -1.  -1.   0.   0.  -1.  -1.\n",
            "  -1.  -1.  -1.  -2.  -3.  -4.  -4.  -5.  -4.  -4.  -5.  -5.  -6.  -7.\n",
            "  -7.  -7.  -8.  -7.  -7.  -7.  -8.  -8.  -9. -10.  -9.  -9. -10. -10.\n",
            " -10. -10.]\n",
            "\n",
            "ini x data partikel ke- 3   [ 0. -1. -1. -1. -1.  0. -1.  0.  0.  1.  1.  1.  2.  2.  2.  1.  1.  0.\n",
            "  0.  0.  0.  0.  0.  1.  1.  2.  3.  4.  4.  5.  5.  5.  5.  5.  5.  5.\n",
            "  6.  5.  5.  5.  6.  5.  5.  4.  4.  3.  4.  4.  5.  4.  5.  5.  4.  4.\n",
            "  4.  3.  2.  2.  2.  2.  1.  2.  2.  2.  2.  2.  3.  3.  3.  2.  1.  1.\n",
            "  2.  3.  2.  3.  2.  3.  2.  2.  3.  3.  3.  3.  3.  3.  3.  3.  2.  2.\n",
            "  2.  2.  1.  2.  2.  1.  2.  2.  2.  3.]\n",
            "\n",
            "ini y data partikel ke- 3   [ 0.  0. -1.  0.  1.  1.  1.  1.  0.  0. -1.  0.  0.  1.  0.  0. -1. -1.\n",
            "  0. -1.  0. -1. -2. -2. -3. -3. -3. -3. -4. -4. -5. -4. -5. -6. -5. -6.\n",
            " -6. -6. -5. -6. -6. -6. -5. -5. -4. -4. -4. -5. -5. -5. -5. -4. -4. -5.\n",
            " -6. -6. -6. -7. -6. -7. -7. -7. -8. -7. -6. -7. -7. -8. -7. -7. -7. -6.\n",
            " -6. -6. -6. -6. -6. -6. -6. -5. -5. -4. -5. -4. -5. -4. -3. -2. -2. -3.\n",
            " -4. -5. -5. -5. -6. -6. -6. -7. -6. -6.]\n",
            "\n",
            "ini x data partikel ke- 4   [  0.  -1.   0.   0.   0.  -1.   0.   0.   0.   0.   0.   0.   0.   0.\n",
            "   0.   0.   1.   1.   1.   1.   1.   1.   0.   0.  -1.  -2.  -2.  -2.\n",
            "  -2.  -2.  -3.  -3.  -4.  -5.  -5.  -5.  -5.  -5.  -5.  -5.  -5.  -5.\n",
            "  -5.  -4.  -5.  -6.  -6.  -5.  -5.  -4.  -4.  -3.  -2.  -1.  -1.  -2.\n",
            "  -2.  -2.  -2.  -2.  -3.  -4.  -5.  -6.  -6.  -7.  -8.  -7.  -8.  -8.\n",
            "  -8.  -8.  -7.  -8.  -7.  -6.  -6.  -7.  -7.  -7.  -7.  -7.  -7.  -8.\n",
            "  -7.  -6.  -6.  -6.  -6.  -7.  -7.  -7.  -8.  -8.  -9. -10. -11. -11.\n",
            " -11. -11.]\n",
            "\n",
            "ini y data partikel ke- 4   [  0.   0.   0.   1.   2.   2.   2.   3.   2.   1.   0.  -1.  -2.  -1.\n",
            "  -2.  -1.  -1.  -2.  -3.  -4.  -5.  -4.  -4.  -5.  -5.  -5.  -6.  -5.\n",
            "  -6.  -5.  -5.  -6.  -6.  -6.  -7.  -8.  -7.  -6.  -7.  -8.  -9. -10.\n",
            " -11. -11. -11. -11. -10. -10. -11. -11. -12. -12. -12. -12. -11. -11.\n",
            " -12. -11. -12. -13. -13. -13. -13. -13. -14. -14. -14. -14. -14. -13.\n",
            " -14. -15. -15. -15. -15. -15. -16. -16. -15. -14. -15. -16. -15. -15.\n",
            " -15. -15. -16. -15. -16. -16. -17. -18. -18. -17. -17. -17. -17. -18.\n",
            " -19. -18.]\n",
            "\n",
            "ini x data partikel ke- 5   [  0.  -1.   0.   1.   1.   2.   2.   1.   1.   1.   1.   0.   0.   0.\n",
            "   0.   0.   0.   0.   1.   1.   1.   1.   0.   0.  -1.  -2.  -3.  -4.\n",
            "  -4.  -4.  -5.  -5.  -5.  -6.  -6.  -6.  -5.  -5.  -6.  -7.  -6.  -6.\n",
            "  -7.  -8.  -8.  -7.  -7.  -7.  -7.  -8.  -8.  -8.  -9.  -8.  -8.  -8.\n",
            "  -9.  -8.  -8.  -7.  -7.  -7.  -7.  -8.  -8.  -8.  -8.  -8.  -8.  -9.\n",
            "  -9. -10. -10. -10. -11. -11. -12. -13. -13. -12. -12. -12. -11. -10.\n",
            " -10.  -9.  -9. -10. -10. -10.  -9.  -9.  -8.  -8.  -9.  -9. -10. -11.\n",
            " -11. -10.]\n",
            "\n",
            "ini y data partikel ke- 5   [ 0.  0.  0.  0. -1. -1. -2. -2. -1. -2. -3. -3. -4. -5. -4. -5. -4. -5.\n",
            " -5. -6. -5. -4. -4. -5. -5. -5. -5. -5. -6. -5. -5. -4. -3. -3. -2. -3.\n",
            " -3. -2. -2. -2. -2. -1. -1. -1. -2. -2. -3. -4. -5. -5. -6. -5. -5. -5.\n",
            " -4. -3. -3. -3. -4. -4. -3. -4. -3. -3. -4. -5. -4. -5. -6. -6. -5. -5.\n",
            " -4. -3. -3. -4. -4. -4. -5. -5. -4. -3. -3. -3. -4. -4. -5. -5. -4. -5.\n",
            " -5. -4. -4. -3. -3. -4. -4. -4. -5. -5.]\n",
            "\n",
            "ini x data partikel ke- 6   [ 0.  1.  0. -1. -2. -3. -3. -3. -4. -4. -3. -2. -2. -3. -4. -4. -3. -3.\n",
            " -3. -3. -3. -2. -2. -2. -2. -3. -3. -3. -3. -3. -3. -3. -2. -2. -2. -2.\n",
            " -2. -3. -4. -5. -4. -5. -5. -6. -5. -4. -4. -3. -3. -2. -2. -2. -2. -2.\n",
            " -2. -2. -2. -3. -3. -2. -3. -3. -2. -3. -4. -4. -5. -6. -5. -5. -5. -4.\n",
            " -4. -4. -5. -4. -3. -3. -3. -2. -2. -1. -1. -2. -2. -2. -1. -1.  0.  1.\n",
            "  2.  3.  2.  3.  3.  4.  3.  3.  4.  4.]\n",
            "\n",
            "ini y data partikel ke- 6   [ 0.  0.  0.  0.  0.  0. -1. -2. -2. -1. -1. -1. -2. -2. -2. -3. -3. -2.\n",
            " -3. -2. -1. -1.  0. -1. -2. -2. -1. -2. -1.  0. -1. -2. -2. -3. -4. -5.\n",
            " -4. -4. -4. -4. -4. -4. -5. -5. -5. -5. -6. -6. -5. -5. -4. -5. -6. -5.\n",
            " -6. -5. -6. -6. -7. -7. -7. -6. -6. -6. -6. -5. -5. -5. -5. -4. -5. -5.\n",
            " -6. -7. -7. -7. -7. -6. -7. -7. -6. -6. -7. -7. -8. -9. -9. -8. -8. -8.\n",
            " -8. -8. -8. -8. -7. -7. -7. -6. -6. -7.]\n",
            "\n",
            "ini x data partikel ke- 7   [ 0.  1.  1.  1.  2.  1.  1.  0.  0.  0.  1.  1.  1.  1.  1.  1.  1.  2.\n",
            "  3.  3.  2.  3.  2.  3.  4.  4.  4.  4.  3.  4.  4.  5.  5.  6.  6.  7.\n",
            "  7.  7.  7.  7.  7.  6.  5.  5.  5.  6.  6.  7.  6.  6.  5.  4.  3.  2.\n",
            "  2.  2.  3.  3.  3.  3.  2.  1.  0.  1.  0.  0.  0. -1. -1. -2. -1. -2.\n",
            " -3. -3. -3. -3. -2. -2. -1. -1. -2. -3. -3. -2. -2. -2. -3. -4. -5. -5.\n",
            " -5. -6. -6. -6. -5. -4. -3. -4. -4. -4.]\n",
            "\n",
            "ini y data partikel ke- 7   [ 0.  0.  1.  2.  2.  2.  1.  1.  0.  1.  1.  2.  1.  2.  3.  2.  3.  3.\n",
            "  3.  2.  2.  2.  2.  2.  2.  1.  2.  3.  3.  3.  2.  2.  1.  1.  0.  0.\n",
            " -1.  0. -1.  0. -1. -1. -1. -2. -3. -3. -2. -2. -2. -1. -1. -1. -1. -1.\n",
            " -2. -3. -3. -2. -1.  0.  0.  0.  0.  0.  0.  1.  0.  0.  1.  1.  1.  1.\n",
            "  1.  2.  1.  0.  0. -1. -1. -2. -2. -2. -3. -3. -4. -3. -3. -3. -3. -2.\n",
            " -1. -1. -2. -1. -1. -1. -1. -1. -2. -3.]\n",
            "\n",
            "ini x data partikel ke- 8   [ 0.  0. -1. -1.  0.  1.  2.  1.  2.  2.  3.  4.  5.  4.  4.  3.  2.  3.\n",
            "  3.  3.  3.  3.  2.  2.  1.  2.  3.  4.  5.  6.  6.  6.  5.  6.  6.  5.\n",
            "  5.  6.  5.  6.  5.  5.  5.  5.  5.  4.  5.  6.  6.  6.  6.  6.  5.  6.\n",
            "  6.  6.  6.  6.  5.  5.  5.  5.  6.  5.  5.  6.  6.  5.  6.  5.  5.  5.\n",
            "  4.  4.  5.  4.  4.  4.  3.  3.  3.  3.  3.  4.  4.  4.  3.  4.  5.  5.\n",
            "  5.  4.  5.  6.  7.  7.  7.  8.  8.  7.]\n",
            "\n",
            "ini y data partikel ke- 8   [ 0. -1. -1. -2. -2. -2. -2. -2. -2. -3. -3. -3. -3. -3. -2. -2. -2. -2.\n",
            " -1.  0. -1. -2. -2. -3. -3. -3. -3. -3. -3. -3. -4. -5. -5. -5. -4. -4.\n",
            " -5. -5. -5. -5. -5. -4. -3. -2. -3. -3. -3. -3. -2. -3. -4. -3. -3. -3.\n",
            " -4. -3. -4. -3. -3. -2. -1. -2. -2. -2. -1. -1.  0.  0.  0.  0. -1.  0.\n",
            "  0.  1.  1.  1.  0.  1.  1.  0.  1.  0. -1. -1. -2. -3. -3. -3. -3. -2.\n",
            " -1. -1. -1. -1. -1. -2. -3. -3. -2. -2.]\n"
          ]
        }
      ]
    },
    {
      "cell_type": "code",
      "source": [
        "#Jarak Pergerakan (MAX)\n",
        "for i in range(0,9):\n",
        "  x_jarak =  math.pow(x_data[i][-1] - x_data[i][0],2 )\n",
        "  y_jarak =  math.pow(y_data[i][-1] - y_data[i][0],2 )\n",
        "  r=math.sqrt(x_jarak + y_jarak)\n",
        "  r2 = math.pow(r,2)\n",
        "  print(\"Partikel ke-\",i,\"= \",r2)\n"
      ],
      "metadata": {
        "colab": {
          "base_uri": "https://localhost:8080/"
        },
        "id": "R8ZWff_PhHMz",
        "outputId": "96f46220-2b8c-4540-93e0-a9087d03e94a"
      },
      "execution_count": 71,
      "outputs": [
        {
          "output_type": "stream",
          "name": "stdout",
          "text": [
            "Partikel ke- 0 =  25.0\n",
            "Partikel ke- 1 =  101.0\n",
            "Partikel ke- 2 =  17.0\n",
            "Partikel ke- 3 =  36.99999999999999\n",
            "Partikel ke- 4 =  64.99999999999999\n",
            "Partikel ke- 5 =  9.0\n",
            "Partikel ke- 6 =  96.99999999999999\n",
            "Partikel ke- 7 =  36.99999999999999\n",
            "Partikel ke- 8 =  25.0\n"
          ]
        }
      ]
    }
  ]
}